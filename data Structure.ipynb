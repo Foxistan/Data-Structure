{
 "cells": [
  {
   "cell_type": "code",
   "execution_count": 15,
   "id": "60081639-2a18-4e85-88f7-d445269902db",
   "metadata": {},
   "outputs": [],
   "source": [
    "## Dynamic Typing examples"
   ]
  },
  {
   "cell_type": "code",
   "execution_count": 15,
   "id": "8c09973b-efb1-4fe0-ab4a-afd20bfedfb6",
   "metadata": {},
   "outputs": [],
   "source": [
    "a = 10"
   ]
  },
  {
   "cell_type": "code",
   "execution_count": 19,
   "id": "a7005c1d-4942-4a71-abf3-499cb7c436c1",
   "metadata": {},
   "outputs": [
    {
     "data": {
      "text/plain": [
       "int"
      ]
     },
     "execution_count": 19,
     "metadata": {},
     "output_type": "execute_result"
    }
   ],
   "source": [
    "type(a)"
   ]
  },
  {
   "cell_type": "code",
   "execution_count": 20,
   "id": "da9774e1-f3fd-4e3f-8744-65507000e6f9",
   "metadata": {},
   "outputs": [],
   "source": [
    "b = '10'"
   ]
  },
  {
   "cell_type": "code",
   "execution_count": 22,
   "id": "d228cc24-91e4-4393-9c95-f0f08bc08c98",
   "metadata": {},
   "outputs": [
    {
     "data": {
      "text/plain": [
       "str"
      ]
     },
     "execution_count": 22,
     "metadata": {},
     "output_type": "execute_result"
    }
   ],
   "source": [
    "type(b)"
   ]
  },
  {
   "cell_type": "code",
   "execution_count": 27,
   "id": "d13d986a-f55a-4a7d-8c65-7098ab327f14",
   "metadata": {},
   "outputs": [],
   "source": [
    "## Typecasting examples"
   ]
  },
  {
   "cell_type": "code",
   "execution_count": 29,
   "id": "b13a0fd7-0e35-4dd8-87bf-a16463030318",
   "metadata": {},
   "outputs": [
    {
     "data": {
      "text/plain": [
       "0"
      ]
     },
     "execution_count": 29,
     "metadata": {},
     "output_type": "execute_result"
    }
   ],
   "source": [
    "# Data types with no entered value in it would be zero (shift + tab to know the function)\n",
    "int()"
   ]
  },
  {
   "cell_type": "code",
   "execution_count": 35,
   "id": "98f6e419-dc96-44f5-b931-3e932cce4936",
   "metadata": {},
   "outputs": [
    {
     "data": {
      "text/plain": [
       "72"
      ]
     },
     "execution_count": 35,
     "metadata": {},
     "output_type": "execute_result"
    }
   ],
   "source": [
    "# If this data type contain numbers so it will be execute or else give you the error\n",
    "int(72)"
   ]
  },
  {
   "cell_type": "code",
   "execution_count": 37,
   "id": "05034d92-cb9c-4365-921a-ad6b6844fb70",
   "metadata": {},
   "outputs": [
    {
     "data": {
      "text/plain": [
       "72"
      ]
     },
     "execution_count": 37,
     "metadata": {},
     "output_type": "execute_result"
    }
   ],
   "source": [
    "# If this data type include number so it will be execute or else give you the error\n",
    "int('72')"
   ]
  },
  {
   "cell_type": "code",
   "execution_count": 39,
   "id": "1bcf31cc-6a89-4e9c-bff0-f6f692d8c6fc",
   "metadata": {},
   "outputs": [
    {
     "ename": "NameError",
     "evalue": "name 'abcd' is not defined",
     "output_type": "error",
     "traceback": [
      "\u001b[0;31m---------------------------------------------------------------------------\u001b[0m",
      "\u001b[0;31mNameError\u001b[0m                                 Traceback (most recent call last)",
      "Cell \u001b[0;32mIn[39], line 1\u001b[0m\n\u001b[0;32m----> 1\u001b[0m \u001b[38;5;28mint\u001b[39m(\u001b[43mabcd\u001b[49m)\n",
      "\u001b[0;31mNameError\u001b[0m: name 'abcd' is not defined"
     ]
    }
   ],
   "source": [
    "## If this data type include number so it will be execute or else give you the error\n",
    "int(abcd)"
   ]
  },
  {
   "cell_type": "code",
   "execution_count": 41,
   "id": "74ae64a0-afa6-488e-90b7-37b3226b5074",
   "metadata": {},
   "outputs": [
    {
     "ename": "ValueError",
     "evalue": "invalid literal for int() with base 10: 'abcd'",
     "output_type": "error",
     "traceback": [
      "\u001b[0;31m---------------------------------------------------------------------------\u001b[0m",
      "\u001b[0;31mValueError\u001b[0m                                Traceback (most recent call last)",
      "Cell \u001b[0;32mIn[41], line 2\u001b[0m\n\u001b[1;32m      1\u001b[0m \u001b[38;5;66;03m## If this data type include number so it will be execute or else give you the error\u001b[39;00m\n\u001b[0;32m----> 2\u001b[0m \u001b[38;5;28;43mint\u001b[39;49m\u001b[43m(\u001b[49m\u001b[38;5;124;43m'\u001b[39;49m\u001b[38;5;124;43mabcd\u001b[39;49m\u001b[38;5;124;43m'\u001b[39;49m\u001b[43m)\u001b[49m\n",
      "\u001b[0;31mValueError\u001b[0m: invalid literal for int() with base 10: 'abcd'"
     ]
    }
   ],
   "source": [
    "## If this data type include number so it will be execute or else give you the error\n",
    "int('abcd')"
   ]
  },
  {
   "cell_type": "code",
   "execution_count": 42,
   "id": "6d7841bf-e193-4b99-afcb-26ea4b0bded2",
   "metadata": {},
   "outputs": [],
   "source": [
    "## Types of printing"
   ]
  },
  {
   "cell_type": "code",
   "execution_count": 44,
   "id": "1f1ea7c8-66ee-47d1-a734-b383f2de1c1a",
   "metadata": {},
   "outputs": [
    {
     "name": "stdout",
     "output_type": "stream",
     "text": [
      "Hello World\n"
     ]
    }
   ],
   "source": [
    "#1. \n",
    "print('Hello World')"
   ]
  },
  {
   "cell_type": "code",
   "execution_count": 48,
   "id": "a435b8a3-ceb0-49ad-8041-7982e063e665",
   "metadata": {},
   "outputs": [
    {
     "name": "stdout",
     "output_type": "stream",
     "text": [
      "My age is: 22\n"
     ]
    }
   ],
   "source": [
    "#2.\n",
    "age = 22\n",
    "print('My age is:',age)"
   ]
  },
  {
   "cell_type": "code",
   "execution_count": 49,
   "id": "4d64708a-32bc-4662-be03-d3e167ce3190",
   "metadata": {},
   "outputs": [
    {
     "name": "stdout",
     "output_type": "stream",
     "text": [
      "My age is 22\n"
     ]
    }
   ],
   "source": [
    "#3. f string \n",
    "print(f'My age is {age}')"
   ]
  },
  {
   "cell_type": "code",
   "execution_count": 53,
   "id": "9521254d-8ed5-4e15-bf74-0597e6376dcc",
   "metadata": {},
   "outputs": [
    {
     "name": "stdout",
     "output_type": "stream",
     "text": [
      "My name is Tufail & My age is 22\n"
     ]
    }
   ],
   "source": [
    "#4. Format()\n",
    "Name = 'Tufail'\n",
    "Age = 22\n",
    "print('My name is {} & My age is {}'.format(Name, age)) # execute in order wise, to make it random use below by using variables"
   ]
  },
  {
   "cell_type": "code",
   "execution_count": 60,
   "id": "59021d77-dce5-40bc-8487-3898a7ee0b9f",
   "metadata": {},
   "outputs": [
    {
     "name": "stdout",
     "output_type": "stream",
     "text": [
      "My name is Tufail & My age is 22\n"
     ]
    }
   ],
   "source": [
    "#5.Placeholder\n",
    "print('My name is {a} & My age is {b}'.format(a=Name, b=age)) \n",
    "\n",
    "# wherever python finds the value of 'name' it will give it to variable 'a' & same as 'b'"
   ]
  },
  {
   "cell_type": "code",
   "execution_count": 85,
   "id": "c8506111-c780-46cd-b8b1-13005e668e7c",
   "metadata": {},
   "outputs": [],
   "source": [
    "#Another example of placeholder\n",
    "names =('Arif Hussain Inder  Shahbaz')\n",
    "age = 22,22,25,22"
   ]
  },
  {
   "cell_type": "code",
   "execution_count": 88,
   "id": "fb5d761b-913c-4fde-9b6d-a5fea488dd8c",
   "metadata": {},
   "outputs": [
    {
     "name": "stdout",
     "output_type": "stream",
     "text": [
      "Arif Hussain Inder  Shahbaz are my best friends because they are under (22, 22, 25, 22) of age\n"
     ]
    }
   ],
   "source": [
    "print('{a} are my best friends because they are under {b} of age'.format (a=names, b =age))"
   ]
  },
  {
   "cell_type": "code",
   "execution_count": 1,
   "id": "1ed41799-ea6e-4665-9703-bc4a1b764adf",
   "metadata": {},
   "outputs": [],
   "source": [
    "## Practice\n",
    "name = 'Tufail'\n",
    "age = 22\n",
    "degree = 'bcom'"
   ]
  },
  {
   "cell_type": "code",
   "execution_count": 2,
   "id": "ea7203cc-5457-4252-8890-7d4717ade82c",
   "metadata": {},
   "outputs": [
    {
     "name": "stdout",
     "output_type": "stream",
     "text": [
      "My age is 22 & i have completed my degree of bcom with the name of Tufail\n"
     ]
    }
   ],
   "source": [
    "# f' / f string \n",
    "print(f'My age is {age} & i have completed my degree of {degree} with the name of {name}')"
   ]
  },
  {
   "cell_type": "code",
   "execution_count": 3,
   "id": "fe7bad75-f27e-4685-8cd5-41b3e6aa9c3d",
   "metadata": {},
   "outputs": [
    {
     "name": "stdout",
     "output_type": "stream",
     "text": [
      "my age is 22 & i have completed my degree of bcom with the name of Tufail\n"
     ]
    }
   ],
   "source": [
    "# .format\n",
    "print('my age is {a} & i have completed my degree of {b} with the name of {c}'.format(a=age, b = degree, c = name))"
   ]
  },
  {
   "cell_type": "markdown",
   "id": "64a3f23f-7fec-4760-b792-469240c5ed43",
   "metadata": {},
   "source": [
    "## Control Flow\n",
    "### Decision Making statements\n",
    "   1. **if**\n",
    "   2. **if else**\n",
    "   3. **if elif else**\n",
    "   4. **Nested if**\n",
    "   5. **Single Statement Suites**"
   ]
  },
  {
   "cell_type": "code",
   "execution_count": 48,
   "id": "ec46489b-41cb-4783-9179-a92199816ad8",
   "metadata": {},
   "outputs": [],
   "source": [
    "age = 22"
   ]
  },
  {
   "cell_type": "code",
   "execution_count": 59,
   "id": "fc820e0c-6a8d-40b7-aa0d-ddc8dc5a160e",
   "metadata": {},
   "outputs": [
    {
     "name": "stdout",
     "output_type": "stream",
     "text": [
      "He is eligible for marriage\n"
     ]
    }
   ],
   "source": [
    "if age<=22:\n",
    "    print('He is eligible for marriage')"
   ]
  },
  {
   "cell_type": "code",
   "execution_count": 66,
   "id": "51f5c315-d264-4827-8067-95d339f5d4bb",
   "metadata": {},
   "outputs": [],
   "source": [
    "## Task for practice:-\n",
    "## Take a input of age\n",
    "## check whether age >=18 and age<=45\n",
    "## display a message you are young blood"
   ]
  },
  {
   "cell_type": "code",
   "execution_count": 13,
   "id": "a24cd11c-4ae2-467d-b0af-c179e74f900d",
   "metadata": {},
   "outputs": [
    {
     "name": "stdin",
     "output_type": "stream",
     "text": [
      "enter your age 46\n"
     ]
    },
    {
     "name": "stdout",
     "output_type": "stream",
     "text": [
      "You are a old blood\n"
     ]
    }
   ],
   "source": [
    "age1 = int(input('enter your age'))\n",
    "if age1 >=32 and age <=45:\n",
    "    print('You are a young blood')\n",
    "else:\n",
    "    print('You are a old blood')\n"
   ]
  },
  {
   "cell_type": "code",
   "execution_count": 14,
   "id": "7a81b252-0d07-4e32-b80e-40cb96dee5b0",
   "metadata": {},
   "outputs": [],
   "source": [
    "## Task 2"
   ]
  },
  {
   "cell_type": "code",
   "execution_count": 22,
   "id": "18c3771f-bb33-499a-88d3-ac8667870add",
   "metadata": {},
   "outputs": [
    {
     "name": "stdin",
     "output_type": "stream",
     "text": [
      "Product Price 1500\n"
     ]
    },
    {
     "name": "stdout",
     "output_type": "stream",
     "text": [
      "The product price is 1200.0\n"
     ]
    }
   ],
   "source": [
    "PP = int(input('Product Price'))\n",
    "if PP > 1000:\n",
    "    print('The product price is {}'.format(PP*0.8))\n",
    "elif PP <= 1000:\n",
    "    print('The product price is {}'.format(PP*0.9))"
   ]
  },
  {
   "cell_type": "code",
   "execution_count": null,
   "id": "392ca485-89e3-4e63-9d8a-1de75463acd3",
   "metadata": {},
   "outputs": [],
   "source": [
    "## Task 2.O"
   ]
  },
  {
   "cell_type": "code",
   "execution_count": 74,
   "id": "356d4e94-ff7e-4d75-b066-4693c95c2179",
   "metadata": {},
   "outputs": [
    {
     "name": "stdin",
     "output_type": "stream",
     "text": [
      "Product Price 4000\n"
     ]
    },
    {
     "name": "stdout",
     "output_type": "stream",
     "text": [
      "You won a trip to GOA\n",
      "The product price is 3200.0\n"
     ]
    }
   ],
   "source": [
    "PP = int(input('Product Price'))\n",
    "if PP == 4000:\n",
    "    print('You won a trip to GOA')\n",
    "if PP > 3000:\n",
    "    print('The product price is {}'.format(PP*0.8))\n",
    "elif 2000 <= PP <= 3000:\n",
    "    print('You,ll get a suitcase')\n",
    "if PP == 2999:\n",
    "    print('The product price is {}'.format(PP*0.7))\n",
    "elif 1000 <= PP <= 2000:\n",
    "    print('The product price is {}'.format(PP*0.6))\n",
    "elif PP <1000:\n",
    "    print('Nalle')"
   ]
  },
  {
   "cell_type": "code",
   "execution_count": 30,
   "id": "ff17ccd1-7cfc-4046-96fb-09ddb425962b",
   "metadata": {},
   "outputs": [],
   "source": [
    "## Another Task with relatable example\n",
    "## Employee with salary >=50000, will get 10% bonus\n",
    "## Employee with salary <50000, will get 5% bomus"
   ]
  },
  {
   "cell_type": "code",
   "execution_count": 34,
   "id": "58e2ce22-7306-4e82-a54f-9df5dfc150d6",
   "metadata": {},
   "outputs": [
    {
     "name": "stdin",
     "output_type": "stream",
     "text": [
      "Your Salary 49999\n"
     ]
    },
    {
     "name": "stdout",
     "output_type": "stream",
     "text": [
      "Your bonus amount is 2499.9500000000003\n"
     ]
    }
   ],
   "source": [
    "emp_sal = int(input('Your Salary'))\n",
    "if emp_sal >=50000:\n",
    "    print(f'Your bonus amount is {emp_sal*0.1}')\n",
    "else:\n",
    "    print(f'Your bonus amount is {emp_sal*0.05}')"
   ]
  },
  {
   "cell_type": "code",
   "execution_count": 76,
   "id": "1e690dc4-f5af-41b8-8f3e-cf1a38dfbc6b",
   "metadata": {},
   "outputs": [
    {
     "name": "stdin",
     "output_type": "stream",
     "text": [
      "Your Salary 50000\n"
     ]
    },
    {
     "name": "stdout",
     "output_type": "stream",
     "text": [
      "Your bonus amount is 5000.0\n"
     ]
    }
   ],
   "source": [
    "## Single Statement Suites (code written in single statements)\n",
    "emp_sal = int(input('Your Salary'))\n",
    "if emp_sal >=50000: print(f'Your bonus amount is {emp_sal*0.1}')\n",
    "else:print(f'Your bonus amount is {emp_sal*0.05}')"
   ]
  },
  {
   "cell_type": "markdown",
   "id": "1fc2097c-62b5-4186-bb9d-503549860a3f",
   "metadata": {},
   "source": [
    "## Loops statements\n",
    "1. while loop\n",
    "2. for loop\n",
    "3. nested loops\n",
    "4. Loop control(break,continue,pass)"
   ]
  },
  {
   "cell_type": "code",
   "execution_count": 1,
   "id": "f3817d2f-de87-44e6-bc06-c1cf94151686",
   "metadata": {},
   "outputs": [
    {
     "name": "stdout",
     "output_type": "stream",
     "text": [
      "19\n",
      "20\n",
      "21\n",
      "22\n",
      "23\n",
      "24\n",
      "25\n",
      "26\n",
      "Its time for marriage\n"
     ]
    }
   ],
   "source": [
    "##While loop / while else\n",
    "age = 18\n",
    "while age <=25:\n",
    "    age = age+1\n",
    "    print(age)\n",
    "else:print('Its time for marriage')"
   ]
  },
  {
   "cell_type": "code",
   "execution_count": 1,
   "id": "88e8a269-ac88-4f4b-a1fd-1e7ebe95e06c",
   "metadata": {},
   "outputs": [
    {
     "name": "stdout",
     "output_type": "stream",
     "text": [
      "1000\n",
      "900\n",
      "800\n",
      "700\n",
      "600\n",
      "500\n",
      "400\n",
      "300\n",
      "200\n",
      "100\n",
      "Cash Inavailable\n"
     ]
    }
   ],
   "source": [
    "# Another example\n",
    "atm = 1000\n",
    "while atm != 0:\n",
    "    print(atm)\n",
    "    atm = atm - 100\n",
    "else:print('Cash Inavailable')"
   ]
  },
  {
   "cell_type": "code",
   "execution_count": null,
   "id": "919fa31b-f937-4c6d-a43c-fe4e8cb5ed10",
   "metadata": {},
   "outputs": [],
   "source": []
  }
 ],
 "metadata": {
  "kernelspec": {
   "display_name": "Python 3 (ipykernel)",
   "language": "python",
   "name": "python3"
  },
  "language_info": {
   "codemirror_mode": {
    "name": "ipython",
    "version": 3
   },
   "file_extension": ".py",
   "mimetype": "text/x-python",
   "name": "python",
   "nbconvert_exporter": "python",
   "pygments_lexer": "ipython3",
   "version": "3.10.8"
  }
 },
 "nbformat": 4,
 "nbformat_minor": 5
}
